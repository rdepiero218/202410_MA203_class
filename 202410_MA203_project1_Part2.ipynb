{
 "cells": [
  {
   "cell_type": "markdown",
   "id": "3204f53f-4a42-42de-b086-27a02ff04a2c",
   "metadata": {
    "tags": []
   },
   "source": [
    "# Project 1: Exploring Projectile Motion\n",
    "\n",
    "In this assignment you are tasked with investing the projectile motion of an object shot in the air from ground level with an initial velocity of 500 m/sec at an angle of $60^{\\circ}$ with the horizontal.\n",
    "\n",
    "The general form of the position function for a projectile with initial velocity $v_0$ and initial angle $\\theta$ is given by\n",
    "$$\\displaystyle s(t) = \\left\\langle v_0 \\, t \\,  \\cos{\\left(\\theta \\right)},\\;  v_o \\, t \\, \\sin{\\left(\\theta \\right)} - \\frac{1}{2} g t^{2} \\right\\rangle$$\n",
    "where $g$ is gravity.\n",
    "\n",
    "The assignment has two parts\n",
    "- Generating a plot of the position function (20 points)\n",
    "- Analysis of the Position Function Using Sympy (60 points)\n",
    "\n",
    "This assignment will be graded on completeness and correctness.\n",
    "\n",
    "Each part will be done in a separate notebook to avoid conflicts with using Sympy and Numpy in the same notebook. The needed libraries have been added for you. You've also been given variable names in most cases.\n",
    "\n",
    "**Make sure that your output for each portion appears on screen when cells are evaluated.** I shouldn't need to type anything to see your output. Remember that to print variables and expressions in a notebook just enter the name in a cell and evaluate it by hitting shift + enter."
   ]
  },
  {
   "cell_type": "markdown",
   "id": "6d305413-cda7-4c62-9fb0-7439f3629599",
   "metadata": {
    "tags": []
   },
   "source": [
    "## Part II - Exploring Projectile Motion with Sympy\n",
    "\n",
    "In this part of the assignment you'll be analyzing different features of the position function. If done properly, you won't need to do any calculations by hand. Use the plot generated in Part 1 to verify that your results are correct."
   ]
  },
  {
   "cell_type": "code",
   "execution_count": 67,
   "id": "200f11ea-4dc6-44f3-850a-306c099ce634",
   "metadata": {
    "tags": []
   },
   "outputs": [],
   "source": [
    "from sympy import *\n",
    "init_printing()  #this prints things in a 'pretty' way with usual math notation\n",
    "x, y, z, t = symbols('x y z t', positive = True, real = True) # declare symbols"
   ]
  },
  {
   "cell_type": "markdown",
   "id": "dfd98319-1e2b-4819-855a-48d72274c08a",
   "metadata": {
    "jp-MarkdownHeadingCollapsed": true,
    "tags": []
   },
   "source": [
    "## Some Additional Notes on Sympy\n",
    "\n",
    "A few additonal notes are included here to explain some aspects of Sympy you will need to understand for this assignment."
   ]
  },
  {
   "cell_type": "markdown",
   "id": "4d7210ac-6b82-44d8-980b-f23e7a8779fd",
   "metadata": {
    "tags": []
   },
   "source": [
    "\n",
    "\n",
    "### Numerical vs Symbolic Number Representation\n",
    "\n",
    "If you see any exact values in your results that you don't want, you can force numerical evaluation by using `N(value)`. For example, if I wanted to get the value $\\cos\\left(\\frac{\\pi}{6}\\right)$ to print as a decimal approximation use `N(cos(pi/6))`."
   ]
  },
  {
   "cell_type": "code",
   "execution_count": 71,
   "id": "293efa04-0561-4595-b373-a3fa29070c2b",
   "metadata": {
    "tags": []
   },
   "outputs": [
    {
     "data": {
      "image/png": "[encoded data removed]",
      "text/latex": [
       "$\\displaystyle \\frac{\\sqrt{3}}{2}$"
      ],
      "text/plain": [
       "√3\n",
       "──\n",
       "2 "
      ]
     },
     "execution_count": 71,
     "metadata": {},
     "output_type": "execute_result"
    }
   ],
   "source": [
    "cos(pi/6)"
   ]
  },
  {
   "cell_type": "code",
   "execution_count": 70,
   "id": "d5155764-d56c-452a-8a95-23e7a1be5f50",
   "metadata": {
    "tags": []
   },
   "outputs": [
    {
     "data": {
      "image/png": "[encoded data removed]",
      "text/latex": [
       "$\\displaystyle 0.866025403784439$"
      ],
      "text/plain": [
       "0.866025403784439"
      ]
     },
     "execution_count": 70,
     "metadata": {},
     "output_type": "execute_result"
    }
   ],
   "source": [
    "N(cos(pi/6))"
   ]
  },
  {
   "cell_type": "markdown",
   "id": "a01ff57e-f689-48ff-a5d5-a95721718656",
   "metadata": {
    "tags": []
   },
   "source": [
    "### Solving Equations\n",
    "\n",
    "There are several different solvers available in Sympy. For this assignment, it's advised to use the `solveset` function in Sympy. There are some things to note regarding the output from this function explained below."
   ]
  },
  {
   "cell_type": "code",
   "execution_count": 110,
   "id": "f4d082a3-cce4-40bc-bb19-55e147d6df1b",
   "metadata": {
    "tags": []
   },
   "outputs": [
    {
     "data": {
      "image/png": "[encoded data removed]",
      "text/latex": [
       "$\\displaystyle \\left\\{- \\sqrt{3}, \\sqrt{3}\\right\\}$"
      ],
      "text/plain": [
       "{-√3, √3}"
      ]
     },
     "execution_count": 110,
     "metadata": {},
     "output_type": "execute_result"
    }
   ],
   "source": [
    "solveset(x**2 - 3, x)"
   ]
  },
  {
   "cell_type": "markdown",
   "id": "5bb0f9ab-b8ac-43d0-8c90-48a4285428de",
   "metadata": {
    "tags": []
   },
   "source": [
    "`Solveset` outputs solutions as a set, which is a certain Python data type (like integers, floats, lists, dictionaries, arrays, etc). Sets are *unordered* meaning they do not have an index, so we cannot reference individual elements in a predictable way. Sympy is also printing these sets on the screen in a way that may make mathematical sense, but is not showing how the information is actually stored. The workaround for this is to place these sets in a sortable datatype. We'll use a Python `list`. This will let us guarantee that the order it displays on the screen is the order in which the information is stored by the computer, and we can properly reference the elements that we want to use later in our code.\n",
    "\n",
    "To create a list from the solution set we do the following."
   ]
  },
  {
   "cell_type": "code",
   "execution_count": 111,
   "id": "3a2e5869-094b-4002-96c3-52917a26bdc1",
   "metadata": {
    "tags": []
   },
   "outputs": [
    {
     "data": {
      "image/png": "[encoded data removed]",
      "text/latex": [
       "$\\displaystyle \\left[ \\sqrt{3}, \\  - \\sqrt{3}\\right]$"
      ],
      "text/plain": [
       "[√3, -√3]"
      ]
     },
     "execution_count": 111,
     "metadata": {},
     "output_type": "execute_result"
    }
   ],
   "source": [
    "list(solveset(x**2 - 3, x))"
   ]
  },
  {
   "cell_type": "markdown",
   "id": "8953efd2-05b8-4394-947a-bc726dd98625",
   "metadata": {
    "tags": []
   },
   "source": [
    "Notice that the delimiters are now square brackets, and the elements appear in a different order. This indicates this is now a Python list.\n",
    "\n",
    "Next we store this list in a variable to make it easier to call, and forcing numeric evaluation."
   ]
  },
  {
   "cell_type": "code",
   "execution_count": 112,
   "id": "f4bce626-c302-4224-bede-031cf824ecc8",
   "metadata": {
    "tags": []
   },
   "outputs": [
    {
     "data": {
      "image/png": "[encoded data removed]",
      "text/latex": [
       "$\\displaystyle \\left[ -1.73205080756888, \\  1.73205080756888\\right]$"
      ],
      "text/plain": [
       "[-1.73205080756888, 1.73205080756888]"
      ]
     },
     "execution_count": 112,
     "metadata": {},
     "output_type": "execute_result"
    }
   ],
   "source": [
    "solns = list(N(solveset(x**2 - 3, x)))\n",
    "solns"
   ]
  },
  {
   "cell_type": "markdown",
   "id": "40edcd31-2aa1-49f7-8733-3cd2cac09f66",
   "metadata": {},
   "source": [
    "Now to reference an element in this list we use square brackets and index of the position it appears in the list. Python starts indexing at 0, so to get the first element we'd say"
   ]
  },
  {
   "cell_type": "code",
   "execution_count": 89,
   "id": "a0f9cec8-6d5b-4552-8184-4f9bee020023",
   "metadata": {
    "tags": []
   },
   "outputs": [
    {
     "data": {
      "image/png": "[encoded data removed]",
      "text/latex": [
       "$\\displaystyle -1.73205080756888$"
      ],
      "text/plain": [
       "-1.73205080756888"
      ]
     },
     "execution_count": 89,
     "metadata": {},
     "output_type": "execute_result"
    }
   ],
   "source": [
    "solns[0]"
   ]
  },
  {
   "cell_type": "markdown",
   "id": "42f33bfa-0cd5-4671-acc9-a2a7500e9610",
   "metadata": {},
   "source": [
    "To get the 2nd element we'd say"
   ]
  },
  {
   "cell_type": "code",
   "execution_count": 114,
   "id": "8cc047b1-5be7-42a3-aeda-22f86418ba77",
   "metadata": {
    "tags": []
   },
   "outputs": [
    {
     "data": {
      "image/png": "[encoded data removed]",
      "text/latex": [
       "$\\displaystyle 1.73205080756888$"
      ],
      "text/plain": [
       "1.73205080756888"
      ]
     },
     "execution_count": 114,
     "metadata": {},
     "output_type": "execute_result"
    }
   ],
   "source": [
    "solns[1]"
   ]
  },
  {
   "cell_type": "code",
   "execution_count": null,
   "id": "dba13c7c-d69a-44a4-91a8-d2ad1a26e811",
   "metadata": {},
   "outputs": [],
   "source": []
  },
  {
   "cell_type": "markdown",
   "id": "aa00a065-f15e-4406-aec9-4742dd3c4751",
   "metadata": {},
   "source": [
    "## Assignment Problems"
   ]
  },
  {
   "cell_type": "markdown",
   "id": "757a34e9-8b38-45b3-9090-8306fcd6aea0",
   "metadata": {},
   "source": [
    "### Preliminaries\n",
    "\n",
    "**Define the position function**. Use the given variables in your definition (even though they are constants) this will make your code easier to use on other problems. Sympy does have a vector class, but it will be easier to define our function as a `Matrix` object. (Refer to the `sympy_example.ipynb` from the in-class Python demo).  Name your Sympy expression `position` as given below. \n",
    "\n"
   ]
  },
  {
   "cell_type": "code",
   "execution_count": 60,
   "id": "847e0fdd-22c7-40eb-b6eb-0019475e2b07",
   "metadata": {
    "tags": []
   },
   "outputs": [],
   "source": [
    "theta = pi/3\n",
    "g = 9.8\n",
    "\n",
    "# position =  # position function definition"
   ]
  },
  {
   "cell_type": "code",
   "execution_count": null,
   "id": "0572e544-0806-400f-a663-2c0c9ad487f7",
   "metadata": {},
   "outputs": [],
   "source": []
  },
  {
   "cell_type": "code",
   "execution_count": null,
   "id": "44e8a784-35f2-4cc3-9432-64f5a6531faf",
   "metadata": {},
   "outputs": [],
   "source": []
  },
  {
   "cell_type": "markdown",
   "id": "12c4d1c6-77c1-4df1-97de-26dc852b899e",
   "metadata": {},
   "source": [
    "**Find the velocity function**. Use Sympy to find the velocity function. Name your function `velocity`"
   ]
  },
  {
   "cell_type": "code",
   "execution_count": 24,
   "id": "f8819d07-9ecc-4cb3-96a1-5a15488a2948",
   "metadata": {
    "tags": []
   },
   "outputs": [],
   "source": [
    "# velocity =  # velocity defintion"
   ]
  },
  {
   "cell_type": "code",
   "execution_count": null,
   "id": "ddcadcb7-59cc-479b-a4a4-3461193f631e",
   "metadata": {},
   "outputs": [],
   "source": []
  },
  {
   "cell_type": "markdown",
   "id": "bc8dd85a-e3f6-4df7-aae4-5137041accbb",
   "metadata": {
    "tags": []
   },
   "source": [
    "### Problem 1: At what time does the projectile reach maximum height?"
   ]
  },
  {
   "cell_type": "code",
   "execution_count": null,
   "id": "928d148b-1ad6-40a3-95fc-38851bc03cb3",
   "metadata": {},
   "outputs": [],
   "source": [
    "# t_max_height = "
   ]
  },
  {
   "cell_type": "code",
   "execution_count": null,
   "id": "0ecff3f7-aeea-4db4-aad1-6861793f5100",
   "metadata": {},
   "outputs": [],
   "source": []
  },
  {
   "cell_type": "code",
   "execution_count": null,
   "id": "15e3c30f-39fa-4889-923a-07e84ba4d423",
   "metadata": {},
   "outputs": [],
   "source": []
  },
  {
   "cell_type": "markdown",
   "id": "1dcab89e-2d92-40f6-9462-f7d683fa5d96",
   "metadata": {},
   "source": [
    "### Problem 2: What is the approximate maximum height of the projectile?"
   ]
  },
  {
   "cell_type": "code",
   "execution_count": null,
   "id": "591027f4-7322-4951-8c4f-b5e6d828596d",
   "metadata": {},
   "outputs": [],
   "source": [
    "# h_max = "
   ]
  },
  {
   "cell_type": "code",
   "execution_count": null,
   "id": "03551de2-13c1-4980-aab4-893345bb1c6f",
   "metadata": {},
   "outputs": [],
   "source": []
  },
  {
   "cell_type": "code",
   "execution_count": null,
   "id": "d93e870a-77e2-4e44-8457-4c8a1fe1d53d",
   "metadata": {},
   "outputs": [],
   "source": []
  },
  {
   "cell_type": "markdown",
   "id": "0810e064-9752-4dfa-8e42-8c020626d630",
   "metadata": {},
   "source": [
    "### Problem 3: At what time is the maximum range of the projectile attained?"
   ]
  },
  {
   "cell_type": "code",
   "execution_count": 123,
   "id": "097d3fd5-dc56-46e8-844b-7ee8c9f161b3",
   "metadata": {
    "tags": []
   },
   "outputs": [],
   "source": [
    "# t_max_range = "
   ]
  },
  {
   "cell_type": "code",
   "execution_count": null,
   "id": "0bf2993c-6faa-43c3-b633-5333c7b59f3d",
   "metadata": {},
   "outputs": [],
   "source": []
  },
  {
   "cell_type": "code",
   "execution_count": null,
   "id": "660f2573-2de3-42a7-a408-b6defec6d159",
   "metadata": {},
   "outputs": [],
   "source": []
  },
  {
   "cell_type": "markdown",
   "id": "bd7bd3f8-3cee-48da-88ac-d1068d1b5e93",
   "metadata": {},
   "source": [
    "### Problem 4: What is the maximum range?"
   ]
  },
  {
   "cell_type": "code",
   "execution_count": 124,
   "id": "5cc7a754-369f-402e-8fbc-2369b8b38b9c",
   "metadata": {
    "tags": []
   },
   "outputs": [],
   "source": [
    "# max_range = "
   ]
  },
  {
   "cell_type": "code",
   "execution_count": null,
   "id": "ef12bd69-73aa-4689-b4a6-9785a032957e",
   "metadata": {},
   "outputs": [],
   "source": []
  },
  {
   "cell_type": "code",
   "execution_count": null,
   "id": "3ae2b2e8-de47-46e0-bf10-ff5a2554af48",
   "metadata": {},
   "outputs": [],
   "source": []
  },
  {
   "cell_type": "code",
   "execution_count": null,
   "id": "fec814ce-65ad-42c0-b59b-678468f2d7dc",
   "metadata": {},
   "outputs": [],
   "source": []
  }
 ],
 "metadata": {
  "kernelspec": {
   "display_name": "Python 3 (ipykernel)",
   "language": "python",
   "name": "python3"
  },
  "language_info": {
   "codemirror_mode": {
    "name": "ipython",
    "version": 3
   },
   "file_extension": ".py",
   "mimetype": "text/x-python",
   "name": "python",
   "nbconvert_exporter": "python",
   "pygments_lexer": "ipython3",
   "version": "3.9.18"
  }
 },
 "nbformat": 4,
 "nbformat_minor": 5
}
