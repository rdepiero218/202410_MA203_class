{
 "cells": [
  {
   "cell_type": "markdown",
   "id": "7f449b5d-ce95-4099-8d2d-d89aacd3f9e8",
   "metadata": {
    "tags": []
   },
   "source": [
    "# Project 1: Exploring Projectile Motion\n",
    "\n",
    "In this assignment you are tasked with investing the projectile motion of an object shot in the air from ground level with an initial velocity of 500 m/sec at an angle of $60^{\\circ}$ with the horizontal.\n",
    "\n",
    "The general form of the position function for a projectile with initial velocity $v_0$ and initial angle $\\theta$ is given by\n",
    "$$\\displaystyle s(t) = \\left\\langle v_0 \\, t \\,  \\cos{\\left(\\theta \\right)},\\;  v_o \\, t \\, \\sin{\\left(\\theta \\right)} - \\frac{1}{2} g t^{2} \\right\\rangle$$\n",
    "where $g$ is gravity.\n",
    "\n",
    "The assignment has two parts\n",
    "- Generating a plot of the position function (20 points)\n",
    "- Analysis of the Position Function Using Sympy (60 points)\n",
    "\n",
    "This assignment will be graded on completeness and correctness.\n",
    "\n",
    "Each part will be done in a separate notebook to avoid conflicts with using Sympy and Numpy in the same notebook. The needed libraries have been added for you."
   ]
  },
  {
   "cell_type": "markdown",
   "id": "708ffd2f-83d6-4e4c-ae02-53f5a2530aba",
   "metadata": {
    "tags": []
   },
   "source": [
    "## Part 1 - Generate a Plot of the Position Function\n",
    "\n",
    "In this part you'll first generate a plot of the position function you will be analyzing. This will give you a means to check that the values you are getting from Sympy actually make sense."
   ]
  },
  {
   "cell_type": "code",
   "execution_count": 6,
   "id": "1e5ffd38-f41a-478b-81df-81f0791320bd",
   "metadata": {
    "tags": []
   },
   "outputs": [],
   "source": [
    "import numpy as np\n",
    "import matplotlib.pyplot as plt"
   ]
  },
  {
   "cell_type": "markdown",
   "id": "0876ec12-be5e-4b45-a5f2-f535c075b5e7",
   "metadata": {
    "tags": []
   },
   "source": [
    "The values of the constants you'll be using are given below.\n",
    "\n",
    "### Defining Your Data"
   ]
  },
  {
   "cell_type": "code",
   "execution_count": 7,
   "id": "932480e1-437d-457c-8474-561f77b28dc0",
   "metadata": {
    "tags": []
   },
   "outputs": [],
   "source": [
    "# constants\n",
    "v_0 = 500         # initial velocity\n",
    "g = 9.8           # gravity (metric)\n",
    "theta = np.pi/3   # initial angle theta (in radians)"
   ]
  },
  {
   "cell_type": "markdown",
   "id": "01f7b40f-d6f6-4cd9-8da0-998300394f1d",
   "metadata": {},
   "source": [
    "Next you need to define the data you'll be plotting. First you'll need to define a set of $t$ data. The best way to do this is using the Numpy function `linspace(start, stop)`, which creates a 1D array of evenly spaced values from the `start` value to the `stop` value. Remember that you need to add an `np.` to the front of any Numpy function you are want call.\n",
    "\n",
    "For this problem, it's advised you use the range of values $t \\in [0, 100]$.\n",
    "\n",
    "A vector valued function is graphed as a set of parametric equations, in this case functions of $t$. For our position function, we have the horizontal or $x$ component, and the vertical $y$ component.\n",
    "\n",
    "To make this easy to re-use, it's advised you include the variables `v_0`, `g`, and `theta` in your definitions.\n",
    "\n"
   ]
  },
  {
   "cell_type": "code",
   "execution_count": 8,
   "id": "17ff7e7e-7587-4240-89d2-eb518d6c9e00",
   "metadata": {
    "tags": []
   },
   "outputs": [],
   "source": [
    "# t = # define your t data here\n",
    "# x = # define your x data here \n",
    "# y = # define your y data here"
   ]
  },
  {
   "cell_type": "markdown",
   "id": "6dc4d2e4-59ef-43d3-a7c3-c4386a9ce27b",
   "metadata": {
    "tags": []
   },
   "source": [
    "### Generate your Plot\n",
    "\n",
    "Now that you have your data set up, you'll create a plot of $x$ values vs $y$ values (not $t$ values!).\n",
    "\n",
    "In addition to properly plotting the function, your plot must have the following features\n",
    "- A descriptive title\n",
    "- $x$ and $y$ axis labels\n",
    "- Limit the $y$ axis values to those greater than zero.\n",
    "\n",
    "Please see the `2D_plotting.ipynb` you were provided with previously if you need assistance on how to do some of these things, anything not answered there is worth looking up on the internet.\n",
    "\n",
    "Add your code to the cell below."
   ]
  },
  {
   "cell_type": "code",
   "execution_count": 9,
   "id": "8de42d2d-1bb4-4086-a226-d4fbb603cdf3",
   "metadata": {
    "tags": []
   },
   "outputs": [],
   "source": [
    "# add code to plot function here\n"
   ]
  },
  {
   "cell_type": "markdown",
   "id": "87183f1d-2d0f-462a-8537-fef9a249cbb5",
   "metadata": {
    "tags": []
   },
   "source": [
    "### Make Some Estimates\n",
    "\n",
    "Examining the graph of the function, can you make some estimates for the following values? Add your answers to the markdown cell below each question.\n",
    "\n",
    "a. What is the estimated maximum height the object reaches?"
   ]
  },
  {
   "cell_type": "markdown",
   "id": "e4a0fb2d-d93f-45b4-ac7d-b09fb0b48e1a",
   "metadata": {},
   "source": []
  },
  {
   "cell_type": "markdown",
   "id": "9a57aea9-eeed-41d1-a607-b1f03d656e46",
   "metadata": {},
   "source": [
    "b. What is the maximum horizontal distance the object travels?"
   ]
  },
  {
   "cell_type": "markdown",
   "id": "f6258fd4-a955-4947-b839-5bf793ae8c54",
   "metadata": {},
   "source": []
  },
  {
   "cell_type": "markdown",
   "id": "7a64b41e-961a-4a01-9762-279b687de8db",
   "metadata": {},
   "source": [
    "c. Can you determine the time at which either of these events occurs using the graph alone? Why or why not?"
   ]
  },
  {
   "cell_type": "markdown",
   "id": "369a20e8-0c24-4dce-883c-6caefb0dabf7",
   "metadata": {},
   "source": []
  }
 ],
 "metadata": {
  "kernelspec": {
   "display_name": "Python 3 (ipykernel)",
   "language": "python",
   "name": "python3"
  },
  "language_info": {
   "codemirror_mode": {
    "name": "ipython",
    "version": 3
   },
   "file_extension": ".py",
   "mimetype": "text/x-python",
   "name": "python",
   "nbconvert_exporter": "python",
   "pygments_lexer": "ipython3",
   "version": "3.9.18"
  }
 },
 "nbformat": 4,
 "nbformat_minor": 5
}
